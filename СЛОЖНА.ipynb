{
  "nbformat": 4,
  "nbformat_minor": 0,
  "metadata": {
    "colab": {
      "provenance": [],
      "authorship_tag": "ABX9TyPjAfdkKCF5hexVcYDtyl7s",
      "include_colab_link": true
    },
    "kernelspec": {
      "name": "python3",
      "display_name": "Python 3"
    },
    "language_info": {
      "name": "python"
    }
  },
  "cells": [
    {
      "cell_type": "markdown",
      "metadata": {
        "id": "view-in-github",
        "colab_type": "text"
      },
      "source": [
        "<a href=\"https://colab.research.google.com/github/DemonBlack333/bah/blob/master/%D0%A1%D0%9B%D0%9E%D0%96%D0%9D%D0%90.ipynb\" target=\"_parent\"><img src=\"https://colab.research.google.com/assets/colab-badge.svg\" alt=\"Open In Colab\"/></a>"
      ]
    },
    {
      "cell_type": "code",
      "execution_count": 3,
      "metadata": {
        "id": "gC0oCi489xju"
      },
      "outputs": [],
      "source": [
        "class Shape:\n",
        "  def __init__ (self, x, y, Scale, Color):\n",
        "    self._position = ''\n",
        "    self._scale = ''\n",
        "    self._color = ''\n",
        "\n",
        "  def get_position(self, x, y):\n",
        "    return self._position\n",
        "\n",
        "  def set_position(self, x, y):\n",
        "    self._position\n",
        "\n",
        "  def get_scale(self):\n",
        "    return self._scale\n",
        "\n",
        "  def set_scale(self, scale):\n",
        "    self._scale = scale\n",
        "\n",
        "\n",
        "  def get_color(self):\n",
        "    self._color\n",
        "\n",
        "  def set_color(self, color):\n",
        "    self._color\n",
        "\n",
        "  def info(Shape):\n",
        "    print(self._position, \"Позиция\", self._color, \"\\nЦвет\", self._scale, \"\\nМасштаб\")\n",
        "\n",
        "  def area(self):\n",
        "        print(\"Площадь фигуры\")\n",
        "\n",
        "class Circle(Shape):\n",
        "  def __init__(self, radius):\n",
        "    super().__init__()\n",
        "    self._radius = ''\n",
        "  \n",
        "  def get_radius(self, radius):\n",
        "    return self._radius\n",
        "\n",
        "  def set_radius(self, radius):\n",
        "    self._radius\n",
        "\n",
        "class Trapezoid(Shape):\n",
        "  def __init__(self, side1, side2, h):\n",
        "    super().__init__()\n",
        "    self._side1 = ''\n",
        "    self._side2 = ''\n",
        "    self._h = ''\n",
        "\n",
        "  def get_side1(self, side1):\n",
        "    return self._side1\n",
        "\n",
        "  def set_side1(self, side1):\n",
        "    self._side1\n",
        "\n",
        "  def get_side2(self, side2):\n",
        "    return self._side2\n",
        "\n",
        "  def set_side2(self, side2):\n",
        "    self._side2\n",
        "\n",
        "  def get_h(self, h):\n",
        "    return self._h\n",
        "\n",
        "  def set_h(self, h):\n",
        "    self._h\n",
        "\n",
        "class Rectangle(Shape):\n",
        "  def __init__ (self, side1, side2):\n",
        "    super().__init__()\n",
        "    self._side1 = ''\n",
        "    self._side2 = ''"
      ]
    }
  ]
}